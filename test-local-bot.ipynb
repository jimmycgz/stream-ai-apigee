{
 "cells": [
  {
   "cell_type": "markdown",
   "metadata": {},
   "source": [
    "# LLMs\n",
    "\n",
    "Here we'll be interacting with a server that's exposing 2 LLMs via the runnable interface."
   ]
  },
  {
   "cell_type": "code",
   "execution_count": 8,
   "metadata": {},
   "outputs": [],
   "source": [
    "import os\n",
    "\n",
    "# Steps to make the environment variable available in Notebook\n",
    "# Add below line to your .bashrc or .zshrc then restart VScode\n",
    "# export APIGEE_HOST='your-apigee-host-url'\n",
    "\n",
    "# Get the APIGEE_HOST from environment variable\n",
    "apigee_host = os.environ.get('APIGEE_HOST')\n",
    "\n",
    "# Check if the environment variable is set\n",
    "if apigee_host is None:\n",
    "    raise ValueError(\"APIGEE_HOST environment variable is not set\")\n",
    "\n",
    "# Use apigee_host in your code\n",
    "# print(f\"Connecting to Apigee host: {apigee_host}\")"
   ]
  },
  {
   "cell_type": "code",
   "execution_count": 9,
   "metadata": {
    "tags": []
   },
   "outputs": [],
   "source": [
    "from langchain.prompts.chat import ChatPromptTemplate"
   ]
  },
  {
   "cell_type": "code",
   "execution_count": 10,
   "metadata": {
    "tags": []
   },
   "outputs": [],
   "source": [
    "from langserve import RemoteRunnable\n",
    "\n",
    "openai_llm = RemoteRunnable(\"http://localhost:8000/openai/\")\n",
    "openai_llm = RemoteRunnable(\"http://vm-pub-ip:8000/openai/\")\n",
    "openai_llm = RemoteRunnable(f\"https://{apigee_host}/openai/\")"
   ]
  },
  {
   "cell_type": "markdown",
   "metadata": {},
   "source": [
    "Let's create a prompt composed of a system message and a human message."
   ]
  },
  {
   "cell_type": "code",
   "execution_count": 11,
   "metadata": {
    "tags": []
   },
   "outputs": [],
   "source": [
    "prompt = ChatPromptTemplate.from_messages(\n",
    "    [\n",
    "        (\n",
    "            \"system\",\n",
    "            \"You are a highly educated person who loves to use big words. \"\n",
    "            + \"You are also concise. Never answer in more than three sentences.\",\n",
    "        ),\n",
    "        (\"human\", \"how to use python to call openai api?\"),\n",
    "    ]\n",
    ").format_messages()\n",
    "\n",
    "prompt = ChatPromptTemplate.from_messages(\n",
    "    [\n",
    "        (\n",
    "            \"system\",\n",
    "            \"You are a nice person who loves to keep the others happy \"\n",
    "            + \"You are also creative and always answer in 300 words.\",\n",
    "        ),\n",
    "        (\"human\", \"tell a joke about the summer in 500 words?\"),\n",
    "    ]\n",
    ").format_messages()"
   ]
  },
  {
   "cell_type": "markdown",
   "metadata": {},
   "source": [
    "We can use either LLM"
   ]
  },
  {
   "cell_type": "code",
   "execution_count": 12,
   "metadata": {
    "tags": []
   },
   "outputs": [
    {
     "data": {
      "text/plain": [
       "AIMessage(content=\"Why did the sun go to school in the summer? To get a little brighter! \\n\\nSummer is a season full of warmth, relaxation, and fun in the sun. It's a time when the days are longer, the nights are shorter, and everyone seems to have a little extra pep in their step. From beach vacations to backyard barbecues, summer brings people together to enjoy the great outdoors and create lasting memories.\\n\\nOne of the best things about summer is the opportunity to cool off in the water. Whether it's swimming at the pool, splashing in the ocean, or floating down a lazy river, there's nothing quite like the feeling of refreshing water on a hot summer day. Some people even say that they're part fish during the summer because they spend so much time in the water!\\n\\nAnother highlight of summer is the delicious food that comes with it. From juicy watermelon to grilled burgers, summer is a time to indulge in all your favorite seasonal treats. There's something about eating outdoors that just makes the food taste better, whether you're having a picnic in the park or enjoying a barbecue in your backyard.\\n\\nOf course, summer wouldn't be complete without a good old-fashioned summer vacation. Whether you're jetting off to a tropical paradise or taking a road trip to explore new places, summer is the perfect time to relax and recharge. It's a chance to leave your worries behind and immerse yourself in new experiences and adventures.\\n\\nBut perhaps the best thing about summer is the way it brings people together. Whether it's gathering around a campfire to roast marshmallows, playing a game of beach volleyball with friends, or simply enjoying a lazy afternoon in the sun, summer is a time to connect with the people you care about and make memories that will last a lifetime.\\n\\nSo, as the sun shines brightly and the days grow longer, remember to embrace all the joys that summer has to offer. Whether you're lounging by the pool, enjoying a cold drink on the porch, or simply basking in the warmth of the sun, make the most of this special season and let your inner light shine bright.\", response_metadata={'token_usage': {'completion_tokens': 428, 'prompt_tokens': 46, 'total_tokens': 474}, 'model_name': 'gpt-3.5-turbo-0125', 'system_fingerprint': None, 'finish_reason': 'stop', 'logprobs': None}, id='run-9a19fffc-a566-4863-8054-12e809297e48-0', usage_metadata={'input_tokens': 46, 'output_tokens': 428, 'total_tokens': 474})"
      ]
     },
     "execution_count": 12,
     "metadata": {},
     "output_type": "execute_result"
    }
   ],
   "source": [
    "openai_llm.invoke(prompt)"
   ]
  },
  {
   "cell_type": "markdown",
   "metadata": {},
   "source": [
    "As with regular runnables, async invoke, batch and async batch variants are available by default"
   ]
  },
  {
   "cell_type": "code",
   "execution_count": 12,
   "metadata": {
    "tags": []
   },
   "outputs": [
    {
     "data": {
      "text/plain": [
       "AIMessage(content=\"Why did the sun go to school in the summer?\\n\\nBecause it wanted to be a little brighter!\\n\\nSummer is a time of sunshine, fun, and laughter. It's a season where we get to enjoy the great outdoors, soak up the sun, and create wonderful memories with friends and family. The long days and warm nights of summer provide the perfect backdrop for all kinds of adventures and experiences.\\n\\nOne of the best things about summer is the opportunity to go on vacation and explore new places. Whether it's a beach trip, a camping adventure, or a visit to a new city, there are endless possibilities for summer travel. From building sandcastles on the beach to roasting marshmallows around a campfire, summer vacations are a time to relax, unwind, and make new memories.\\n\\nSummer is also a time for delicious food and refreshing drinks. From ice cream cones to barbecue cookouts, summer cuisine is all about enjoying fresh, seasonal ingredients and satisfying your taste buds. Whether you're sipping on a fruity cocktail by the pool or digging into a juicy watermelon at a picnic, summer is the perfect time to indulge in all your favorite treats.\\n\\nBut perhaps the best thing about summer is the sense of freedom and joy that fills the air. With school out and work slowing down, summer is a time to let loose, have fun, and embrace the carefree spirit of the season. Whether you're lounging in a hammock with a good book or dancing under the stars at a music festival, summer is a time to celebrate life and all its wonders.\\n\\nSo as you bask in the warmth of the summer sun and enjoy all the beauty and joy that this season brings, remember to cherish each moment, spread kindness and laughter, and keep the spirit of summer alive in your heart.\", response_metadata={'token_usage': {'completion_tokens': 361, 'prompt_tokens': 46, 'total_tokens': 407}, 'model_name': 'gpt-3.5-turbo-0125', 'system_fingerprint': None, 'finish_reason': 'stop', 'logprobs': None}, id='run-7914919b-4bba-423c-98e3-9a5e9bff103f-0', usage_metadata={'input_tokens': 46, 'output_tokens': 361, 'total_tokens': 407})"
      ]
     },
     "execution_count": 12,
     "metadata": {},
     "output_type": "execute_result"
    }
   ],
   "source": [
    "await openai_llm.ainvoke(prompt)"
   ]
  },
  {
   "cell_type": "markdown",
   "metadata": {},
   "source": [
    "Streaming is available by default"
   ]
  },
  {
   "cell_type": "code",
   "execution_count": 13,
   "metadata": {
    "tags": []
   },
   "outputs": [
    {
     "name": "stdout",
     "output_type": "stream",
     "text": [
      "content='' id='run-2361ff36-a15e-42c0-a02d-fc9e9b7b0748'\n",
      "content='I' id='run-2361ff36-a15e-42c0-a02d-fc9e9b7b0748'\n",
      "content=\"'m\" id='run-2361ff36-a15e-42c0-a02d-fc9e9b7b0748'\n",
      "content=' glad' id='run-2361ff36-a15e-42c0-a02d-fc9e9b7b0748'\n",
      "content=' you' id='run-2361ff36-a15e-42c0-a02d-fc9e9b7b0748'\n",
      "content=\"'re\" id='run-2361ff36-a15e-42c0-a02d-fc9e9b7b0748'\n",
      "content=' looking' id='run-2361ff36-a15e-42c0-a02d-fc9e9b7b0748'\n",
      "content=' for' id='run-2361ff36-a15e-42c0-a02d-fc9e9b7b0748'\n",
      "content=' some' id='run-2361ff36-a15e-42c0-a02d-fc9e9b7b0748'\n",
      "content=' summer' id='run-2361ff36-a15e-42c0-a02d-fc9e9b7b0748'\n",
      "content=' humor' id='run-2361ff36-a15e-42c0-a02d-fc9e9b7b0748'\n",
      "content='!' id='run-2361ff36-a15e-42c0-a02d-fc9e9b7b0748'\n",
      "content=' While' id='run-2361ff36-a15e-42c0-a02d-fc9e9b7b0748'\n",
      "content=' I' id='run-2361ff36-a15e-42c0-a02d-fc9e9b7b0748'\n",
      "content=' can' id='run-2361ff36-a15e-42c0-a02d-fc9e9b7b0748'\n",
      "content=\"'t\" id='run-2361ff36-a15e-42c0-a02d-fc9e9b7b0748'\n",
      "content=' provide' id='run-2361ff36-a15e-42c0-a02d-fc9e9b7b0748'\n",
      "content=' you' id='run-2361ff36-a15e-42c0-a02d-fc9e9b7b0748'\n",
      "content=' with' id='run-2361ff36-a15e-42c0-a02d-fc9e9b7b0748'\n",
      "content=' a' id='run-2361ff36-a15e-42c0-a02d-fc9e9b7b0748'\n",
      "content=' joke' id='run-2361ff36-a15e-42c0-a02d-fc9e9b7b0748'\n",
      "content=' in' id='run-2361ff36-a15e-42c0-a02d-fc9e9b7b0748'\n",
      "content=' ' id='run-2361ff36-a15e-42c0-a02d-fc9e9b7b0748'\n",
      "content='500' id='run-2361ff36-a15e-42c0-a02d-fc9e9b7b0748'\n",
      "content=' words' id='run-2361ff36-a15e-42c0-a02d-fc9e9b7b0748'\n",
      "content=',' id='run-2361ff36-a15e-42c0-a02d-fc9e9b7b0748'\n",
      "content=' I' id='run-2361ff36-a15e-42c0-a02d-fc9e9b7b0748'\n",
      "content=' can' id='run-2361ff36-a15e-42c0-a02d-fc9e9b7b0748'\n",
      "content=' certainly' id='run-2361ff36-a15e-42c0-a02d-fc9e9b7b0748'\n",
      "content=' share' id='run-2361ff36-a15e-42c0-a02d-fc9e9b7b0748'\n",
      "content=' a' id='run-2361ff36-a15e-42c0-a02d-fc9e9b7b0748'\n",
      "content=' l' id='run-2361ff36-a15e-42c0-a02d-fc9e9b7b0748'\n",
      "content='igh' id='run-2361ff36-a15e-42c0-a02d-fc9e9b7b0748'\n",
      "content='the' id='run-2361ff36-a15e-42c0-a02d-fc9e9b7b0748'\n",
      "content='art' id='run-2361ff36-a15e-42c0-a02d-fc9e9b7b0748'\n",
      "content='ed' id='run-2361ff36-a15e-42c0-a02d-fc9e9b7b0748'\n",
      "content=' summer' id='run-2361ff36-a15e-42c0-a02d-fc9e9b7b0748'\n",
      "content=' joke' id='run-2361ff36-a15e-42c0-a02d-fc9e9b7b0748'\n",
      "content=' with' id='run-2361ff36-a15e-42c0-a02d-fc9e9b7b0748'\n",
      "content=' you' id='run-2361ff36-a15e-42c0-a02d-fc9e9b7b0748'\n",
      "content='!\\n\\n' id='run-2361ff36-a15e-42c0-a02d-fc9e9b7b0748'\n",
      "content='Why' id='run-2361ff36-a15e-42c0-a02d-fc9e9b7b0748'\n",
      "content=' did' id='run-2361ff36-a15e-42c0-a02d-fc9e9b7b0748'\n",
      "content=' the' id='run-2361ff36-a15e-42c0-a02d-fc9e9b7b0748'\n",
      "content=' sun' id='run-2361ff36-a15e-42c0-a02d-fc9e9b7b0748'\n",
      "content=' go' id='run-2361ff36-a15e-42c0-a02d-fc9e9b7b0748'\n",
      "content=' to' id='run-2361ff36-a15e-42c0-a02d-fc9e9b7b0748'\n",
      "content=' school' id='run-2361ff36-a15e-42c0-a02d-fc9e9b7b0748'\n",
      "content=' in' id='run-2361ff36-a15e-42c0-a02d-fc9e9b7b0748'\n",
      "content=' the' id='run-2361ff36-a15e-42c0-a02d-fc9e9b7b0748'\n",
      "content=' summer' id='run-2361ff36-a15e-42c0-a02d-fc9e9b7b0748'\n",
      "content='?\\n\\n' id='run-2361ff36-a15e-42c0-a02d-fc9e9b7b0748'\n",
      "content='Because' id='run-2361ff36-a15e-42c0-a02d-fc9e9b7b0748'\n",
      "content=' it' id='run-2361ff36-a15e-42c0-a02d-fc9e9b7b0748'\n",
      "content=' wanted' id='run-2361ff36-a15e-42c0-a02d-fc9e9b7b0748'\n",
      "content=' to' id='run-2361ff36-a15e-42c0-a02d-fc9e9b7b0748'\n",
      "content=' get' id='run-2361ff36-a15e-42c0-a02d-fc9e9b7b0748'\n",
      "content=' a' id='run-2361ff36-a15e-42c0-a02d-fc9e9b7b0748'\n",
      "content=' little' id='run-2361ff36-a15e-42c0-a02d-fc9e9b7b0748'\n",
      "content=' brighter' id='run-2361ff36-a15e-42c0-a02d-fc9e9b7b0748'\n",
      "content='!\\n\\n' id='run-2361ff36-a15e-42c0-a02d-fc9e9b7b0748'\n",
      "content='I' id='run-2361ff36-a15e-42c0-a02d-fc9e9b7b0748'\n",
      "content=' hope' id='run-2361ff36-a15e-42c0-a02d-fc9e9b7b0748'\n",
      "content=' that' id='run-2361ff36-a15e-42c0-a02d-fc9e9b7b0748'\n",
      "content=' brought' id='run-2361ff36-a15e-42c0-a02d-fc9e9b7b0748'\n",
      "content=' a' id='run-2361ff36-a15e-42c0-a02d-fc9e9b7b0748'\n",
      "content=' smile' id='run-2361ff36-a15e-42c0-a02d-fc9e9b7b0748'\n",
      "content=' to' id='run-2361ff36-a15e-42c0-a02d-fc9e9b7b0748'\n",
      "content=' your' id='run-2361ff36-a15e-42c0-a02d-fc9e9b7b0748'\n",
      "content=' face' id='run-2361ff36-a15e-42c0-a02d-fc9e9b7b0748'\n",
      "content='!' id='run-2361ff36-a15e-42c0-a02d-fc9e9b7b0748'\n",
      "content=' Summer' id='run-2361ff36-a15e-42c0-a02d-fc9e9b7b0748'\n",
      "content=' is' id='run-2361ff36-a15e-42c0-a02d-fc9e9b7b0748'\n",
      "content=' a' id='run-2361ff36-a15e-42c0-a02d-fc9e9b7b0748'\n",
      "content=' wonderful' id='run-2361ff36-a15e-42c0-a02d-fc9e9b7b0748'\n",
      "content=' time' id='run-2361ff36-a15e-42c0-a02d-fc9e9b7b0748'\n",
      "content=' filled' id='run-2361ff36-a15e-42c0-a02d-fc9e9b7b0748'\n",
      "content=' with' id='run-2361ff36-a15e-42c0-a02d-fc9e9b7b0748'\n",
      "content=' sunshine' id='run-2361ff36-a15e-42c0-a02d-fc9e9b7b0748'\n",
      "content=',' id='run-2361ff36-a15e-42c0-a02d-fc9e9b7b0748'\n",
      "content=' laughter' id='run-2361ff36-a15e-42c0-a02d-fc9e9b7b0748'\n",
      "content=',' id='run-2361ff36-a15e-42c0-a02d-fc9e9b7b0748'\n",
      "content=' and' id='run-2361ff36-a15e-42c0-a02d-fc9e9b7b0748'\n",
      "content=' good' id='run-2361ff36-a15e-42c0-a02d-fc9e9b7b0748'\n",
      "content=' vibes' id='run-2361ff36-a15e-42c0-a02d-fc9e9b7b0748'\n",
      "content='.' id='run-2361ff36-a15e-42c0-a02d-fc9e9b7b0748'\n",
      "content=' It' id='run-2361ff36-a15e-42c0-a02d-fc9e9b7b0748'\n",
      "content=\"'s\" id='run-2361ff36-a15e-42c0-a02d-fc9e9b7b0748'\n",
      "content=' all' id='run-2361ff36-a15e-42c0-a02d-fc9e9b7b0748'\n",
      "content=' about' id='run-2361ff36-a15e-42c0-a02d-fc9e9b7b0748'\n",
      "content=' enjoying' id='run-2361ff36-a15e-42c0-a02d-fc9e9b7b0748'\n",
      "content=' the' id='run-2361ff36-a15e-42c0-a02d-fc9e9b7b0748'\n",
      "content=' warmth' id='run-2361ff36-a15e-42c0-a02d-fc9e9b7b0748'\n",
      "content=',' id='run-2361ff36-a15e-42c0-a02d-fc9e9b7b0748'\n",
      "content=' going' id='run-2361ff36-a15e-42c0-a02d-fc9e9b7b0748'\n",
      "content=' on' id='run-2361ff36-a15e-42c0-a02d-fc9e9b7b0748'\n",
      "content=' adventures' id='run-2361ff36-a15e-42c0-a02d-fc9e9b7b0748'\n",
      "content=',' id='run-2361ff36-a15e-42c0-a02d-fc9e9b7b0748'\n",
      "content=' and' id='run-2361ff36-a15e-42c0-a02d-fc9e9b7b0748'\n",
      "content=' creating' id='run-2361ff36-a15e-42c0-a02d-fc9e9b7b0748'\n",
      "content=' lasting' id='run-2361ff36-a15e-42c0-a02d-fc9e9b7b0748'\n",
      "content=' memories' id='run-2361ff36-a15e-42c0-a02d-fc9e9b7b0748'\n",
      "content=' with' id='run-2361ff36-a15e-42c0-a02d-fc9e9b7b0748'\n",
      "content=' friends' id='run-2361ff36-a15e-42c0-a02d-fc9e9b7b0748'\n",
      "content=' and' id='run-2361ff36-a15e-42c0-a02d-fc9e9b7b0748'\n",
      "content=' family' id='run-2361ff36-a15e-42c0-a02d-fc9e9b7b0748'\n",
      "content='.' id='run-2361ff36-a15e-42c0-a02d-fc9e9b7b0748'\n",
      "content=' Whether' id='run-2361ff36-a15e-42c0-a02d-fc9e9b7b0748'\n",
      "content=' you' id='run-2361ff36-a15e-42c0-a02d-fc9e9b7b0748'\n",
      "content=\"'re\" id='run-2361ff36-a15e-42c0-a02d-fc9e9b7b0748'\n",
      "content=' loung' id='run-2361ff36-a15e-42c0-a02d-fc9e9b7b0748'\n",
      "content='ing' id='run-2361ff36-a15e-42c0-a02d-fc9e9b7b0748'\n",
      "content=' on' id='run-2361ff36-a15e-42c0-a02d-fc9e9b7b0748'\n",
      "content=' the' id='run-2361ff36-a15e-42c0-a02d-fc9e9b7b0748'\n",
      "content=' beach' id='run-2361ff36-a15e-42c0-a02d-fc9e9b7b0748'\n",
      "content=',' id='run-2361ff36-a15e-42c0-a02d-fc9e9b7b0748'\n",
      "content=' having' id='run-2361ff36-a15e-42c0-a02d-fc9e9b7b0748'\n",
      "content=' a' id='run-2361ff36-a15e-42c0-a02d-fc9e9b7b0748'\n",
      "content=' BBQ' id='run-2361ff36-a15e-42c0-a02d-fc9e9b7b0748'\n",
      "content=' in' id='run-2361ff36-a15e-42c0-a02d-fc9e9b7b0748'\n",
      "content=' the' id='run-2361ff36-a15e-42c0-a02d-fc9e9b7b0748'\n",
      "content=' backyard' id='run-2361ff36-a15e-42c0-a02d-fc9e9b7b0748'\n",
      "content=',' id='run-2361ff36-a15e-42c0-a02d-fc9e9b7b0748'\n",
      "content=' or' id='run-2361ff36-a15e-42c0-a02d-fc9e9b7b0748'\n",
      "content=' taking' id='run-2361ff36-a15e-42c0-a02d-fc9e9b7b0748'\n",
      "content=' a' id='run-2361ff36-a15e-42c0-a02d-fc9e9b7b0748'\n",
      "content=' refreshing' id='run-2361ff36-a15e-42c0-a02d-fc9e9b7b0748'\n",
      "content=' dip' id='run-2361ff36-a15e-42c0-a02d-fc9e9b7b0748'\n",
      "content=' in' id='run-2361ff36-a15e-42c0-a02d-fc9e9b7b0748'\n",
      "content=' the' id='run-2361ff36-a15e-42c0-a02d-fc9e9b7b0748'\n",
      "content=' pool' id='run-2361ff36-a15e-42c0-a02d-fc9e9b7b0748'\n",
      "content=',' id='run-2361ff36-a15e-42c0-a02d-fc9e9b7b0748'\n",
      "content=' summer' id='run-2361ff36-a15e-42c0-a02d-fc9e9b7b0748'\n",
      "content=' is' id='run-2361ff36-a15e-42c0-a02d-fc9e9b7b0748'\n",
      "content=' a' id='run-2361ff36-a15e-42c0-a02d-fc9e9b7b0748'\n",
      "content=' time' id='run-2361ff36-a15e-42c0-a02d-fc9e9b7b0748'\n",
      "content=' to' id='run-2361ff36-a15e-42c0-a02d-fc9e9b7b0748'\n",
      "content=' relax' id='run-2361ff36-a15e-42c0-a02d-fc9e9b7b0748'\n",
      "content=' and' id='run-2361ff36-a15e-42c0-a02d-fc9e9b7b0748'\n",
      "content=' soak' id='run-2361ff36-a15e-42c0-a02d-fc9e9b7b0748'\n",
      "content=' in' id='run-2361ff36-a15e-42c0-a02d-fc9e9b7b0748'\n",
      "content=' the' id='run-2361ff36-a15e-42c0-a02d-fc9e9b7b0748'\n",
      "content=' good' id='run-2361ff36-a15e-42c0-a02d-fc9e9b7b0748'\n",
      "content=' times' id='run-2361ff36-a15e-42c0-a02d-fc9e9b7b0748'\n",
      "content='.\\n\\n' id='run-2361ff36-a15e-42c0-a02d-fc9e9b7b0748'\n",
      "content='So' id='run-2361ff36-a15e-42c0-a02d-fc9e9b7b0748'\n",
      "content=',' id='run-2361ff36-a15e-42c0-a02d-fc9e9b7b0748'\n",
      "content=' let' id='run-2361ff36-a15e-42c0-a02d-fc9e9b7b0748'\n",
      "content=\"'s\" id='run-2361ff36-a15e-42c0-a02d-fc9e9b7b0748'\n",
      "content=' embrace' id='run-2361ff36-a15e-42c0-a02d-fc9e9b7b0748'\n",
      "content=' the' id='run-2361ff36-a15e-42c0-a02d-fc9e9b7b0748'\n",
      "content=' sunny' id='run-2361ff36-a15e-42c0-a02d-fc9e9b7b0748'\n",
      "content=' days' id='run-2361ff36-a15e-42c0-a02d-fc9e9b7b0748'\n",
      "content=',' id='run-2361ff36-a15e-42c0-a02d-fc9e9b7b0748'\n",
      "content=' s' id='run-2361ff36-a15e-42c0-a02d-fc9e9b7b0748'\n",
      "content='avor' id='run-2361ff36-a15e-42c0-a02d-fc9e9b7b0748'\n",
      "content=' the' id='run-2361ff36-a15e-42c0-a02d-fc9e9b7b0748'\n",
      "content=' ice' id='run-2361ff36-a15e-42c0-a02d-fc9e9b7b0748'\n",
      "content=' cream' id='run-2361ff36-a15e-42c0-a02d-fc9e9b7b0748'\n",
      "content=' cones' id='run-2361ff36-a15e-42c0-a02d-fc9e9b7b0748'\n",
      "content=',' id='run-2361ff36-a15e-42c0-a02d-fc9e9b7b0748'\n",
      "content=' and' id='run-2361ff36-a15e-42c0-a02d-fc9e9b7b0748'\n",
      "content=' make' id='run-2361ff36-a15e-42c0-a02d-fc9e9b7b0748'\n",
      "content=' the' id='run-2361ff36-a15e-42c0-a02d-fc9e9b7b0748'\n",
      "content=' most' id='run-2361ff36-a15e-42c0-a02d-fc9e9b7b0748'\n",
      "content=' of' id='run-2361ff36-a15e-42c0-a02d-fc9e9b7b0748'\n",
      "content=' those' id='run-2361ff36-a15e-42c0-a02d-fc9e9b7b0748'\n",
      "content=' long' id='run-2361ff36-a15e-42c0-a02d-fc9e9b7b0748'\n",
      "content=' summer' id='run-2361ff36-a15e-42c0-a02d-fc9e9b7b0748'\n",
      "content=' nights' id='run-2361ff36-a15e-42c0-a02d-fc9e9b7b0748'\n",
      "content='.' id='run-2361ff36-a15e-42c0-a02d-fc9e9b7b0748'\n",
      "content=' Remember' id='run-2361ff36-a15e-42c0-a02d-fc9e9b7b0748'\n",
      "content=' to' id='run-2361ff36-a15e-42c0-a02d-fc9e9b7b0748'\n",
      "content=' stay' id='run-2361ff36-a15e-42c0-a02d-fc9e9b7b0748'\n",
      "content=' hydrated' id='run-2361ff36-a15e-42c0-a02d-fc9e9b7b0748'\n",
      "content=',' id='run-2361ff36-a15e-42c0-a02d-fc9e9b7b0748'\n",
      "content=' wear' id='run-2361ff36-a15e-42c0-a02d-fc9e9b7b0748'\n",
      "content=' sunscreen' id='run-2361ff36-a15e-42c0-a02d-fc9e9b7b0748'\n",
      "content=',' id='run-2361ff36-a15e-42c0-a02d-fc9e9b7b0748'\n",
      "content=' and' id='run-2361ff36-a15e-42c0-a02d-fc9e9b7b0748'\n",
      "content=' spread' id='run-2361ff36-a15e-42c0-a02d-fc9e9b7b0748'\n",
      "content=' positivity' id='run-2361ff36-a15e-42c0-a02d-fc9e9b7b0748'\n",
      "content=' wherever' id='run-2361ff36-a15e-42c0-a02d-fc9e9b7b0748'\n",
      "content=' you' id='run-2361ff36-a15e-42c0-a02d-fc9e9b7b0748'\n",
      "content=' go' id='run-2361ff36-a15e-42c0-a02d-fc9e9b7b0748'\n",
      "content='.' id='run-2361ff36-a15e-42c0-a02d-fc9e9b7b0748'\n",
      "content=' Let' id='run-2361ff36-a15e-42c0-a02d-fc9e9b7b0748'\n",
      "content=\"'s\" id='run-2361ff36-a15e-42c0-a02d-fc9e9b7b0748'\n",
      "content=' all' id='run-2361ff36-a15e-42c0-a02d-fc9e9b7b0748'\n",
      "content=' b' id='run-2361ff36-a15e-42c0-a02d-fc9e9b7b0748'\n",
      "content='ask' id='run-2361ff36-a15e-42c0-a02d-fc9e9b7b0748'\n",
      "content=' in' id='run-2361ff36-a15e-42c0-a02d-fc9e9b7b0748'\n",
      "content=' the' id='run-2361ff36-a15e-42c0-a02d-fc9e9b7b0748'\n",
      "content=' glow' id='run-2361ff36-a15e-42c0-a02d-fc9e9b7b0748'\n",
      "content=' of' id='run-2361ff36-a15e-42c0-a02d-fc9e9b7b0748'\n",
      "content=' summer' id='run-2361ff36-a15e-42c0-a02d-fc9e9b7b0748'\n",
      "content=' and' id='run-2361ff36-a15e-42c0-a02d-fc9e9b7b0748'\n",
      "content=' appreciate' id='run-2361ff36-a15e-42c0-a02d-fc9e9b7b0748'\n",
      "content=' the' id='run-2361ff36-a15e-42c0-a02d-fc9e9b7b0748'\n",
      "content=' simple' id='run-2361ff36-a15e-42c0-a02d-fc9e9b7b0748'\n",
      "content=' joys' id='run-2361ff36-a15e-42c0-a02d-fc9e9b7b0748'\n",
      "content=' that' id='run-2361ff36-a15e-42c0-a02d-fc9e9b7b0748'\n",
      "content=' this' id='run-2361ff36-a15e-42c0-a02d-fc9e9b7b0748'\n",
      "content=' season' id='run-2361ff36-a15e-42c0-a02d-fc9e9b7b0748'\n",
      "content=' brings' id='run-2361ff36-a15e-42c0-a02d-fc9e9b7b0748'\n",
      "content='.\\n\\n' id='run-2361ff36-a15e-42c0-a02d-fc9e9b7b0748'\n",
      "content='I' id='run-2361ff36-a15e-42c0-a02d-fc9e9b7b0748'\n",
      "content=' hope' id='run-2361ff36-a15e-42c0-a02d-fc9e9b7b0748'\n",
      "content=' this' id='run-2361ff36-a15e-42c0-a02d-fc9e9b7b0748'\n",
      "content=' joke' id='run-2361ff36-a15e-42c0-a02d-fc9e9b7b0748'\n",
      "content=' added' id='run-2361ff36-a15e-42c0-a02d-fc9e9b7b0748'\n",
      "content=' a' id='run-2361ff36-a15e-42c0-a02d-fc9e9b7b0748'\n",
      "content=' little' id='run-2361ff36-a15e-42c0-a02d-fc9e9b7b0748'\n",
      "content=' sunshine' id='run-2361ff36-a15e-42c0-a02d-fc9e9b7b0748'\n",
      "content=' to' id='run-2361ff36-a15e-42c0-a02d-fc9e9b7b0748'\n",
      "content=' your' id='run-2361ff36-a15e-42c0-a02d-fc9e9b7b0748'\n",
      "content=' day' id='run-2361ff36-a15e-42c0-a02d-fc9e9b7b0748'\n",
      "content='!' id='run-2361ff36-a15e-42c0-a02d-fc9e9b7b0748'\n",
      "content=' If' id='run-2361ff36-a15e-42c0-a02d-fc9e9b7b0748'\n",
      "content=' you' id='run-2361ff36-a15e-42c0-a02d-fc9e9b7b0748'\n",
      "content=' ever' id='run-2361ff36-a15e-42c0-a02d-fc9e9b7b0748'\n",
      "content=' need' id='run-2361ff36-a15e-42c0-a02d-fc9e9b7b0748'\n",
      "content=' more' id='run-2361ff36-a15e-42c0-a02d-fc9e9b7b0748'\n",
      "content=' jokes' id='run-2361ff36-a15e-42c0-a02d-fc9e9b7b0748'\n",
      "content=' or' id='run-2361ff36-a15e-42c0-a02d-fc9e9b7b0748'\n",
      "content=' just' id='run-2361ff36-a15e-42c0-a02d-fc9e9b7b0748'\n",
      "content=' want' id='run-2361ff36-a15e-42c0-a02d-fc9e9b7b0748'\n",
      "content=' to' id='run-2361ff36-a15e-42c0-a02d-fc9e9b7b0748'\n",
      "content=' chat' id='run-2361ff36-a15e-42c0-a02d-fc9e9b7b0748'\n",
      "content=' about' id='run-2361ff36-a15e-42c0-a02d-fc9e9b7b0748'\n",
      "content=' anything' id='run-2361ff36-a15e-42c0-a02d-fc9e9b7b0748'\n",
      "content=',' id='run-2361ff36-a15e-42c0-a02d-fc9e9b7b0748'\n",
      "content=' feel' id='run-2361ff36-a15e-42c0-a02d-fc9e9b7b0748'\n",
      "content=' free' id='run-2361ff36-a15e-42c0-a02d-fc9e9b7b0748'\n",
      "content=' to' id='run-2361ff36-a15e-42c0-a02d-fc9e9b7b0748'\n",
      "content=' reach' id='run-2361ff36-a15e-42c0-a02d-fc9e9b7b0748'\n",
      "content=' out' id='run-2361ff36-a15e-42c0-a02d-fc9e9b7b0748'\n",
      "content='.' id='run-2361ff36-a15e-42c0-a02d-fc9e9b7b0748'\n",
      "content=' W' id='run-2361ff36-a15e-42c0-a02d-fc9e9b7b0748'\n",
      "content='ishing' id='run-2361ff36-a15e-42c0-a02d-fc9e9b7b0748'\n",
      "content=' you' id='run-2361ff36-a15e-42c0-a02d-fc9e9b7b0748'\n",
      "content=' a' id='run-2361ff36-a15e-42c0-a02d-fc9e9b7b0748'\n",
      "content=' summer' id='run-2361ff36-a15e-42c0-a02d-fc9e9b7b0748'\n",
      "content=' filled' id='run-2361ff36-a15e-42c0-a02d-fc9e9b7b0748'\n",
      "content=' with' id='run-2361ff36-a15e-42c0-a02d-fc9e9b7b0748'\n",
      "content=' laughter' id='run-2361ff36-a15e-42c0-a02d-fc9e9b7b0748'\n",
      "content=',' id='run-2361ff36-a15e-42c0-a02d-fc9e9b7b0748'\n",
      "content=' love' id='run-2361ff36-a15e-42c0-a02d-fc9e9b7b0748'\n",
      "content=',' id='run-2361ff36-a15e-42c0-a02d-fc9e9b7b0748'\n",
      "content=' and' id='run-2361ff36-a15e-42c0-a02d-fc9e9b7b0748'\n",
      "content=' endless' id='run-2361ff36-a15e-42c0-a02d-fc9e9b7b0748'\n",
      "content=' fun' id='run-2361ff36-a15e-42c0-a02d-fc9e9b7b0748'\n",
      "content='!' id='run-2361ff36-a15e-42c0-a02d-fc9e9b7b0748'\n",
      "content='' response_metadata={'finish_reason': 'stop', 'model_name': 'gpt-3.5-turbo-0125'} id='run-2361ff36-a15e-42c0-a02d-fc9e9b7b0748'\n"
     ]
    }
   ],
   "source": [
    "for chunk in openai_llm.stream(prompt):\n",
    "    print(chunk)\n",
    "    # print(chunk.content, end=\"\", flush=True)"
   ]
  },
  {
   "cell_type": "code",
   "execution_count": 14,
   "metadata": {
    "tags": []
   },
   "outputs": [
    {
     "name": "stdout",
     "output_type": "stream",
     "text": [
      "I'm glad you're in the mood for some laughter! Here's a joke for you:\n",
      "\n",
      "Why did the sun go to school in the summer?\n",
      "\n",
      "Because it wanted to get a little brighter!\n",
      "\n",
      "Summer is a wonderful time of year when the sun shines brightly, and everyone seems to be in a happier mood. It's a time for vacations, beach days, and enjoying the great outdoors. The warmth of the sun on your skin, the sound of waves crashing on the shore, and the smell of sunscreen in the air all contribute to the joyous feeling that summer brings.\n",
      "\n",
      "One of the best things about summer is the opportunity to spend more time outside and soak up the sunshine. Whether you're lounging by the pool, having a picnic in the park, or going for a hike in the mountains, there's something truly special about being surrounded by nature in the summertime. The long days and warm nights make it the perfect season for making memories with friends and family.\n",
      "\n",
      "Of course, with summer also comes the inevitable heatwaves and sunburns. It's all fun and games until you forget to reapply your sunscreen or accidentally sit on a scorching hot seat at the beach. But hey, at least you'll have a funny story to tell later!\n",
      "\n",
      "In conclusion, summer is a time for laughter, relaxation, and making the most of the beautiful weather. So grab your sunglasses, slather on some sunscreen, and get ready to enjoy all the fun and silliness that this sunny season has to offer!"
     ]
    }
   ],
   "source": [
    "async for chunk in openai_llm.astream(prompt):\n",
    "    print(chunk.content, end=\"\", flush=True)"
   ]
  },
  {
   "cell_type": "code",
   "execution_count": 18,
   "metadata": {},
   "outputs": [],
   "source": [
    "from langchain.schema.runnable import RunnablePassthrough"
   ]
  },
  {
   "cell_type": "code",
   "execution_count": 19,
   "metadata": {
    "tags": []
   },
   "outputs": [],
   "source": [
    "comedian_chain = (\n",
    "    ChatPromptTemplate.from_messages(\n",
    "        [\n",
    "            (\n",
    "                \"system\",\n",
    "                \"You are a comedian that sometimes tells funny jokes and other times you just state facts that are not funny. Please either tell a joke or state fact now but only output one.\",\n",
    "            ),\n",
    "        ]\n",
    "    )\n",
    "    | openai_llm\n",
    ")\n",
    "\n",
    "joke_classifier_chain = (\n",
    "    ChatPromptTemplate.from_messages(\n",
    "        [\n",
    "            (\n",
    "                \"system\",\n",
    "                \"Please determine if the joke is funny. Say `funny` if it's funny and `not funny` if not funny. Then repeat the first five words of the joke for reference...\",\n",
    "            ),\n",
    "            (\"human\", \"{joke}\"),\n",
    "        ]\n",
    "    )\n",
    "    | openai_llm\n",
    ")\n",
    "\n",
    "chain = {\"joke\": comedian_chain} | RunnablePassthrough.assign(\n",
    "    classification=joke_classifier_chain\n",
    ")"
   ]
  },
  {
   "cell_type": "code",
   "execution_count": 20,
   "metadata": {
    "tags": []
   },
   "outputs": [
    {
     "data": {
      "text/plain": [
       "{'joke': AIMessage(content='Fact: The average person spends about 6 months of their lifetime waiting at red lights.', response_metadata={'token_usage': {'completion_tokens': 18, 'prompt_tokens': 42, 'total_tokens': 60}, 'model_name': 'gpt-3.5-turbo-0125', 'system_fingerprint': None, 'finish_reason': 'stop', 'logprobs': None}, id='run-6f7cafd2-b342-43fe-a3b3-2a21d6b1cbad-0', usage_metadata={'input_tokens': 42, 'output_tokens': 18, 'total_tokens': 60}),\n",
       " 'classification': AIMessage(content='funny', response_metadata={'token_usage': {'completion_tokens': 2, 'prompt_tokens': 190, 'total_tokens': 192}, 'model_name': 'gpt-3.5-turbo-0125', 'system_fingerprint': None, 'finish_reason': 'stop', 'logprobs': None}, id='run-b62d7217-5d8c-43b8-a7b8-199416d1bcf7-0', usage_metadata={'input_tokens': 190, 'output_tokens': 2, 'total_tokens': 192})}"
      ]
     },
     "execution_count": 20,
     "metadata": {},
     "output_type": "execute_result"
    }
   ],
   "source": [
    "chain.invoke({})"
   ]
  },
  {
   "cell_type": "code",
   "execution_count": null,
   "metadata": {},
   "outputs": [],
   "source": []
  }
 ],
 "metadata": {
  "kernelspec": {
   "display_name": "Python 3 (ipykernel)",
   "language": "python",
   "name": "python3"
  },
  "language_info": {
   "codemirror_mode": {
    "name": "ipython",
    "version": 3
   },
   "file_extension": ".py",
   "mimetype": "text/x-python",
   "name": "python",
   "nbconvert_exporter": "python",
   "pygments_lexer": "ipython3",
   "version": "3.11.6"
  }
 },
 "nbformat": 4,
 "nbformat_minor": 4
}
