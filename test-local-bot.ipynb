{
 "cells": [
  {
   "cell_type": "markdown",
   "metadata": {},
   "source": [
    "# LLMs\n",
    "\n",
    "Here we'll be interacting with a server that's exposing 2 LLMs via the runnable interface."
   ]
  },
  {
   "cell_type": "code",
   "execution_count": 8,
   "metadata": {},
   "outputs": [],
   "source": [
    "import os\n",
    "\n",
    "# Steps to make the environment variable available in Notebook\n",
    "# Add below line to your .bashrc or .zshrc then restart VScode\n",
    "# export APIGEE_HOST='your-apigee-host-url'\n",
    "\n",
    "# Get the APIGEE_HOST from environment variable\n",
    "apigee_host = os.environ.get('APIGEE_HOST')\n",
    "\n",
    "# Check if the environment variable is set\n",
    "if apigee_host is None:\n",
    "    raise ValueError(\"APIGEE_HOST environment variable is not set\")\n",
    "\n",
    "# Use apigee_host in your code\n",
    "# print(f\"Connecting to Apigee host: {apigee_host}\")"
   ]
  },
  {
   "cell_type": "code",
   "execution_count": 9,
   "metadata": {
    "tags": []
   },
   "outputs": [],
   "source": [
    "from langchain.prompts.chat import ChatPromptTemplate"
   ]
  },
  {
   "cell_type": "code",
   "execution_count": 10,
   "metadata": {
    "tags": []
   },
   "outputs": [],
   "source": [
    "from langserve import RemoteRunnable\n",
    "\n",
    "openai_llm = RemoteRunnable(\"http://localhost:8000/openai/\")\n",
    "openai_llm = RemoteRunnable(\"http://vm-pub-ip:8000/openai/\")\n",
    "openai_llm = RemoteRunnable(f\"https://{apigee_host}/openai/\")"
   ]
  },
  {
   "cell_type": "markdown",
   "metadata": {},
   "source": [
    "Let's create a prompt composed of a system message and a human message."
   ]
  },
  {
   "cell_type": "code",
   "execution_count": 11,
   "metadata": {
    "tags": []
   },
   "outputs": [],
   "source": [
    "prompt = ChatPromptTemplate.from_messages(\n",
    "    [\n",
    "        (\n",
    "            \"system\",\n",
    "            \"You are a highly educated person who loves to use big words. \"\n",
    "            + \"You are also concise. Never answer in more than three sentences.\",\n",
    "        ),\n",
    "        (\"human\", \"how to use python to call openai api?\"),\n",
    "    ]\n",
    ").format_messages()\n",
    "\n",
    "prompt = ChatPromptTemplate.from_messages(\n",
    "    [\n",
    "        (\n",
    "            \"system\",\n",
    "            \"You are a nice person who loves to keep the others happy \"\n",
    "            + \"You are also creative and always answer in 300 words.\",\n",
    "        ),\n",
    "        (\"human\", \"tell a joke about the summer in 500 words?\"),\n",
    "    ]\n",
    ").format_messages()"
   ]
  },
  {
   "cell_type": "markdown",
   "metadata": {},
   "source": [
    "We can use either LLM"
   ]
  },
  {
   "cell_type": "code",
   "execution_count": 12,
   "metadata": {
    "tags": []
   },
   "outputs": [
    {
     "data": {
      "text/plain": [
       "AIMessage(content=\"Why did the sun go to school in the summer? To get a little brighter! \\n\\nSummer is a season full of warmth, relaxation, and fun in the sun. It's a time when the days are longer, the nights are shorter, and everyone seems to have a little extra pep in their step. From beach vacations to backyard barbecues, summer brings people together to enjoy the great outdoors and create lasting memories.\\n\\nOne of the best things about summer is the opportunity to cool off in the water. Whether it's swimming at the pool, splashing in the ocean, or floating down a lazy river, there's nothing quite like the feeling of refreshing water on a hot summer day. Some people even say that they're part fish during the summer because they spend so much time in the water!\\n\\nAnother highlight of summer is the delicious food that comes with it. From juicy watermelon to grilled burgers, summer is a time to indulge in all your favorite seasonal treats. There's something about eating outdoors that just makes the food taste better, whether you're having a picnic in the park or enjoying a barbecue in your backyard.\\n\\nOf course, summer wouldn't be complete without a good old-fashioned summer vacation. Whether you're jetting off to a tropical paradise or taking a road trip to explore new places, summer is the perfect time to relax and recharge. It's a chance to leave your worries behind and immerse yourself in new experiences and adventures.\\n\\nBut perhaps the best thing about summer is the way it brings people together. Whether it's gathering around a campfire to roast marshmallows, playing a game of beach volleyball with friends, or simply enjoying a lazy afternoon in the sun, summer is a time to connect with the people you care about and make memories that will last a lifetime.\\n\\nSo, as the sun shines brightly and the days grow longer, remember to embrace all the joys that summer has to offer. Whether you're lounging by the pool, enjoying a cold drink on the porch, or simply basking in the warmth of the sun, make the most of this special season and let your inner light shine bright.\", response_metadata={'token_usage': {'completion_tokens': 428, 'prompt_tokens': 46, 'total_tokens': 474}, 'model_name': 'gpt-3.5-turbo-0125', 'system_fingerprint': None, 'finish_reason': 'stop', 'logprobs': None}, id='run-9a19fffc-a566-4863-8054-12e809297e48-0', usage_metadata={'input_tokens': 46, 'output_tokens': 428, 'total_tokens': 474})"
      ]
     },
     "execution_count": 12,
     "metadata": {},
     "output_type": "execute_result"
    }
   ],
   "source": [
    "openai_llm.invoke(prompt)"
   ]
  },
  {
   "cell_type": "markdown",
   "metadata": {},
   "source": [
    "As with regular runnables, async invoke, batch and async batch variants are available by default"
   ]
  },
  {
   "cell_type": "code",
   "execution_count": 12,
   "metadata": {
    "tags": []
   },
   "outputs": [
    {
     "data": {
      "text/plain": [
       "AIMessage(content=\"Why did the sun go to school in the summer?\\n\\nBecause it wanted to be a little brighter!\\n\\nSummer is a time of sunshine, fun, and laughter. It's a season where we get to enjoy the great outdoors, soak up the sun, and create wonderful memories with friends and family. The long days and warm nights of summer provide the perfect backdrop for all kinds of adventures and experiences.\\n\\nOne of the best things about summer is the opportunity to go on vacation and explore new places. Whether it's a beach trip, a camping adventure, or a visit to a new city, there are endless possibilities for summer travel. From building sandcastles on the beach to roasting marshmallows around a campfire, summer vacations are a time to relax, unwind, and make new memories.\\n\\nSummer is also a time for delicious food and refreshing drinks. From ice cream cones to barbecue cookouts, summer cuisine is all about enjoying fresh, seasonal ingredients and satisfying your taste buds. Whether you're sipping on a fruity cocktail by the pool or digging into a juicy watermelon at a picnic, summer is the perfect time to indulge in all your favorite treats.\\n\\nBut perhaps the best thing about summer is the sense of freedom and joy that fills the air. With school out and work slowing down, summer is a time to let loose, have fun, and embrace the carefree spirit of the season. Whether you're lounging in a hammock with a good book or dancing under the stars at a music festival, summer is a time to celebrate life and all its wonders.\\n\\nSo as you bask in the warmth of the summer sun and enjoy all the beauty and joy that this season brings, remember to cherish each moment, spread kindness and laughter, and keep the spirit of summer alive in your heart.\", response_metadata={'token_usage': {'completion_tokens': 361, 'prompt_tokens': 46, 'total_tokens': 407}, 'model_name': 'gpt-3.5-turbo-0125', 'system_fingerprint': None, 'finish_reason': 'stop', 'logprobs': None}, id='run-7914919b-4bba-423c-98e3-9a5e9bff103f-0', usage_metadata={'input_tokens': 46, 'output_tokens': 361, 'total_tokens': 407})"
      ]
     },
     "execution_count": 12,
     "metadata": {},
     "output_type": "execute_result"
    }
   ],
   "source": [
    "await openai_llm.ainvoke(prompt)"
   ]
  },
  {
   "cell_type": "markdown",
   "metadata": {},
   "source": [
    "Streaming is available by default"
   ]
  },
  {
   "cell_type": "code",
   "execution_count": 13,
   "metadata": {
    "tags": []
   },
   "outputs": [
    {
     "name": "stdout",
     "output_type": "stream",
     "text": [
      "Why did the sun go to school in the summer?\n",
      "\n",
      "Because it wanted to be a little brighter!\n",
      "\n",
      "Summer is such a wonderful time of year when the sun is shining, the birds are chirping, and the days are long and lazy. It's the perfect time to relax, have fun, and enjoy the great outdoors. Whether you're soaking up the sun at the beach, having a picnic in the park, or enjoying a BBQ with friends and family, there's nothing quite like the carefree vibes of summer.\n",
      "\n",
      "One of the best things about summer is all the fun activities you can do. From swimming and surfing to hiking and camping, there's no shortage of ways to enjoy the warm weather. And let's not forget about all the delicious summer treats like ice cream, watermelon, and BBQ ribs. Yum!\n",
      "\n",
      "But of course, with all the fun and sun comes the inevitable summer heat. Sometimes it can get so hot that you feel like you're melting! That's when it's time to break out the fans, crank up the AC, and maybe even take a dip in the pool to cool off. And let's not forget about the dreaded sunburn – always remember to wear sunscreen, folks!\n",
      "\n",
      "Despite the heat, summer is a time for making memories and having a blast. Whether you're going on a road trip, attending a music festival, or simply relaxing in your backyard with a good book, there's something magical about the summer season that brings out the best in all of us.\n",
      "\n",
      "So let's raise a glass (or a popsicle) to summer – the season of sunshine, laughter, and endless possibilities. Here's to making the most of every moment and spreading joy wherever we go. Cheers to summer!"
     ]
    }
   ],
   "source": [
    "for chunk in openai_llm.stream(prompt):\n",
    "    print(chunk.content, end=\"\", flush=True)"
   ]
  },
  {
   "cell_type": "code",
   "execution_count": 14,
   "metadata": {
    "tags": []
   },
   "outputs": [
    {
     "name": "stdout",
     "output_type": "stream",
     "text": [
      "I'm glad you're in the mood for some laughter! Here's a joke for you:\n",
      "\n",
      "Why did the sun go to school in the summer?\n",
      "\n",
      "Because it wanted to get a little brighter!\n",
      "\n",
      "Summer is a wonderful time of year when the sun shines brightly, and everyone seems to be in a happier mood. It's a time for vacations, beach days, and enjoying the great outdoors. The warmth of the sun on your skin, the sound of waves crashing on the shore, and the smell of sunscreen in the air all contribute to the joyous feeling that summer brings.\n",
      "\n",
      "One of the best things about summer is the opportunity to spend more time outside and soak up the sunshine. Whether you're lounging by the pool, having a picnic in the park, or going for a hike in the mountains, there's something truly special about being surrounded by nature in the summertime. The long days and warm nights make it the perfect season for making memories with friends and family.\n",
      "\n",
      "Of course, with summer also comes the inevitable heatwaves and sunburns. It's all fun and games until you forget to reapply your sunscreen or accidentally sit on a scorching hot seat at the beach. But hey, at least you'll have a funny story to tell later!\n",
      "\n",
      "In conclusion, summer is a time for laughter, relaxation, and making the most of the beautiful weather. So grab your sunglasses, slather on some sunscreen, and get ready to enjoy all the fun and silliness that this sunny season has to offer!"
     ]
    }
   ],
   "source": [
    "async for chunk in openai_llm.astream(prompt):\n",
    "    print(chunk.content, end=\"\", flush=True)"
   ]
  },
  {
   "cell_type": "code",
   "execution_count": 18,
   "metadata": {},
   "outputs": [],
   "source": [
    "from langchain.schema.runnable import RunnablePassthrough"
   ]
  },
  {
   "cell_type": "code",
   "execution_count": 19,
   "metadata": {
    "tags": []
   },
   "outputs": [],
   "source": [
    "comedian_chain = (\n",
    "    ChatPromptTemplate.from_messages(\n",
    "        [\n",
    "            (\n",
    "                \"system\",\n",
    "                \"You are a comedian that sometimes tells funny jokes and other times you just state facts that are not funny. Please either tell a joke or state fact now but only output one.\",\n",
    "            ),\n",
    "        ]\n",
    "    )\n",
    "    | openai_llm\n",
    ")\n",
    "\n",
    "joke_classifier_chain = (\n",
    "    ChatPromptTemplate.from_messages(\n",
    "        [\n",
    "            (\n",
    "                \"system\",\n",
    "                \"Please determine if the joke is funny. Say `funny` if it's funny and `not funny` if not funny. Then repeat the first five words of the joke for reference...\",\n",
    "            ),\n",
    "            (\"human\", \"{joke}\"),\n",
    "        ]\n",
    "    )\n",
    "    | openai_llm\n",
    ")\n",
    "\n",
    "chain = {\"joke\": comedian_chain} | RunnablePassthrough.assign(\n",
    "    classification=joke_classifier_chain\n",
    ")"
   ]
  },
  {
   "cell_type": "code",
   "execution_count": 20,
   "metadata": {
    "tags": []
   },
   "outputs": [
    {
     "data": {
      "text/plain": [
       "{'joke': AIMessage(content='Fact: The average person spends about 6 months of their lifetime waiting at red lights.', response_metadata={'token_usage': {'completion_tokens': 18, 'prompt_tokens': 42, 'total_tokens': 60}, 'model_name': 'gpt-3.5-turbo-0125', 'system_fingerprint': None, 'finish_reason': 'stop', 'logprobs': None}, id='run-6f7cafd2-b342-43fe-a3b3-2a21d6b1cbad-0', usage_metadata={'input_tokens': 42, 'output_tokens': 18, 'total_tokens': 60}),\n",
       " 'classification': AIMessage(content='funny', response_metadata={'token_usage': {'completion_tokens': 2, 'prompt_tokens': 190, 'total_tokens': 192}, 'model_name': 'gpt-3.5-turbo-0125', 'system_fingerprint': None, 'finish_reason': 'stop', 'logprobs': None}, id='run-b62d7217-5d8c-43b8-a7b8-199416d1bcf7-0', usage_metadata={'input_tokens': 190, 'output_tokens': 2, 'total_tokens': 192})}"
      ]
     },
     "execution_count": 20,
     "metadata": {},
     "output_type": "execute_result"
    }
   ],
   "source": [
    "chain.invoke({})"
   ]
  },
  {
   "cell_type": "code",
   "execution_count": null,
   "metadata": {},
   "outputs": [],
   "source": []
  }
 ],
 "metadata": {
  "kernelspec": {
   "display_name": "Python 3 (ipykernel)",
   "language": "python",
   "name": "python3"
  },
  "language_info": {
   "codemirror_mode": {
    "name": "ipython",
    "version": 3
   },
   "file_extension": ".py",
   "mimetype": "text/x-python",
   "name": "python",
   "nbconvert_exporter": "python",
   "pygments_lexer": "ipython3",
   "version": "3.11.6"
  }
 },
 "nbformat": 4,
 "nbformat_minor": 4
}
